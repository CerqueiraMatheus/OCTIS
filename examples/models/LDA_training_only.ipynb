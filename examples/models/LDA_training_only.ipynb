{
 "cells": [
  {
   "cell_type": "code",
   "execution_count": null,
   "metadata": {},
   "outputs": [],
   "source": [
    "!pip install octis\n",
    "from pathlib import Path\n",
    "Path(\"/content/20NewsGroup\").mkdir(parents=True, exist_ok=True)\n",
    "!wget -P /content/20NewsGroup/ https://raw.githubusercontent.com/MIND-Lab/OCTIS/master/octis/preprocessed_datasets/20NewsGroup/corpus.txt\n",
    "!wget -P /content/20NewsGroup/ https://raw.githubusercontent.com/MIND-Lab/OCTIS/master/octis/preprocessed_datasets/20NewsGroup/labels.txt\n",
    "!wget -P /content/20NewsGroup/ https://raw.githubusercontent.com/MIND-Lab/OCTIS/master/octis/preprocessed_datasets/20NewsGroup/metadata.json\n",
    "!wget -P /content/20NewsGroup/ https://raw.githubusercontent.com/MIND-Lab/OCTIS/master/octis/preprocessed_datasets/20NewsGroup/vocabulary.txt\n",
    "import sys\n",
    "sys.path.insert(0,'/content/OCTIS')"
   ]
  },
  {
   "cell_type": "code",
   "execution_count": 20,
   "metadata": {},
   "outputs": [],
   "source": [
    "import os\n",
    "from octis.models.LDA import LDA\n",
    "from octis.dataset.dataset import Dataset\n",
    "from octis.evaluation_metrics.diversity_metrics import TopicDiversity\n",
    "from octis.evaluation_metrics.topic_significance_metrics import KL_vacuous"
   ]
  },
  {
   "cell_type": "code",
   "execution_count": 6,
   "metadata": {
    "pycharm": {
     "name": "#%%\n"
    }
   },
   "outputs": [],
   "source": [
    "# Define dataset\n",
    "dataset = Dataset()\n",
    "dataset_path = \"/content/20NewsGroup\" # insert the path\n",
    "dataset.load(dataset_path)"
   ]
  },
  {
   "cell_type": "code",
   "execution_count": 16,
   "metadata": {
    "pycharm": {
     "name": "#%%\n"
    }
   },
   "outputs": [],
   "source": [
    "# Create Model\n",
    "model = LDA(num_topics=20, alpha=5)"
   ]
  },
  {
   "cell_type": "code",
   "execution_count": 17,
   "metadata": {},
   "outputs": [
    {
     "name": "stdout",
     "output_type": "stream",
     "text": [
      "topic-word-matrix\n",
      "topics\n",
      "topic-document-matrix\n",
      "test-document-topic-matrix\n"
     ]
    }
   ],
   "source": [
    "# Train the model using default partitioning choice\n",
    "output = model.train_model(dataset)\n",
    "\n",
    "print(*list(output.keys()), sep=\"\\n\") # Print the output identifiers"
   ]
  },
  {
   "cell_type": "code",
   "execution_count": 18,
   "metadata": {
    "pycharm": {
     "name": "#%%\n"
    }
   },
   "outputs": [
    {
     "data": {
      "text/plain": [
       "(20, 1612)"
      ]
     },
     "execution_count": 18,
     "metadata": {},
     "output_type": "execute_result"
    }
   ],
   "source": [
    "# Check the shape of the topic word matrix\n",
    "output[\"topic-word-matrix\"].shape"
   ]
  },
  {
   "cell_type": "code",
   "execution_count": 21,
   "metadata": {
    "pycharm": {
     "name": "#%%\n"
    }
   },
   "outputs": [],
   "source": [
    "# Set topic diversity parameters\n",
    "td_parameters ={'topk':10}\n",
    "# Initialize metrics\n",
    "topic_diversity = TopicDiversity(td_parameters)\n",
    "\n",
    "KL_vacuous = KL_vacuous()"
   ]
  },
  {
   "cell_type": "code",
   "execution_count": 22,
   "metadata": {},
   "outputs": [
    {
     "name": "stdout",
     "output_type": "stream",
     "text": [
      "Topic diversity: 0.71\n",
      "KL Vacuous: 1.3400903763477376\n"
     ]
    }
   ],
   "source": [
    "# Retrieve metrics score\n",
    "topic_diversity_score = topic_diversity.score(output)\n",
    "print(\"Topic diversity: \"+str(topic_diversity_score))\n",
    "\n",
    "\n",
    "KL_vacuous_score = KL_vacuous.score(output)\n",
    "print(\"KL Vacuous: \"+str(KL_vacuous_score))"
   ]
  },
  {
   "cell_type": "code",
   "execution_count": 23,
   "metadata": {},
   "outputs": [
    {
     "name": "stdout",
     "output_type": "stream",
     "text": [
      "topic-word-matrix\n",
      "topics\n",
      "topic-document-matrix\n"
     ]
    }
   ],
   "source": [
    "# Train the model using the whole dataset as a training set\n",
    "model.partitioning(False)\n",
    "output = model.train_model(dataset)\n",
    "\n",
    "print(*list(output.keys()), sep=\"\\n\") # Print the output identifiers"
   ]
  },
  {
   "cell_type": "code",
   "execution_count": 24,
   "metadata": {},
   "outputs": [
    {
     "name": "stdout",
     "output_type": "stream",
     "text": [
      "Topic diversity: 0.76\n",
      "KL Vacuous: 1.3934759255435745\n"
     ]
    }
   ],
   "source": [
    "# Retrieve metrics score\n",
    "topic_diversity_score = topic_diversity.score(output)\n",
    "print(\"Topic diversity: \"+str(topic_diversity_score))\n",
    "\n",
    "\n",
    "KL_vacuous_score = KL_vacuous.score(output)\n",
    "print(\"KL Vacuous: \"+str(KL_vacuous_score))"
   ]
  }
 ],
 "metadata": {
  "kernelspec": {
   "display_name": "Python 3",
   "language": "python",
   "name": "python3"
  },
  "language_info": {
   "codemirror_mode": {
    "name": "ipython",
    "version": 3
   },
   "file_extension": ".py",
   "mimetype": "text/x-python",
   "name": "python",
   "nbconvert_exporter": "python",
   "pygments_lexer": "ipython3",
   "version": "3.7.6"
  }
 },
 "nbformat": 4,
 "nbformat_minor": 1
}
