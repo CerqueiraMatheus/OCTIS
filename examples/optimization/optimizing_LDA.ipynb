{
   "cells": [
      {
         "cell_type": "markdown",
         "metadata": {},
         "source": [
            "# Example of Topic Model Optimization "
         ]
      },
      {
         "cell_type": "markdown",
         "metadata": {},
         "source": [
            "In this notebook, we illustrate how optimize the hyper-parameters of the LDA model trough the Bayesian Optimization."
         ]
      },
      {
         "cell_type": "code",
         "execution_count": null,
         "metadata": {},
         "outputs": [],
         "source": [
            "Colab configuration"
         ]
      },
      {
         "cell_type": "code",
         "execution_count": null,
         "metadata": {},
         "outputs": [],
         "source": [
            "!pip install octis\n",
            "from pathlib import Path\n",
            "Path(\"/content/M10\").mkdir(parents=True, exist_ok=True)\n",
            "!wget -P /content/M10/ https://raw.githubusercontent.com/MIND-Lab/OCTIS/master/octis/preprocessed_datasets/M10/corpus.txt\n",
            "!wget -P /content/M10/ https://raw.githubusercontent.com/MIND-Lab/OCTIS/master/octis/preprocessed_datasets/M10/labels.txt\n",
            "!wget -P /content/M10/ https://raw.githubusercontent.com/MIND-Lab/OCTIS/master/octis/preprocessed_datasets/M10/metadata.json\n",
            "!wget -P /content/M10/ https://raw.githubusercontent.com/MIND-Lab/OCTIS/master/octis/preprocessed_datasets/M10/vocabulary.txt\n",
            "import sys\n",
            "sys.path.insert(0,'/content/OCTIS')"
         ]
      },
      {
         "cell_type": "markdown",
         "metadata": {},
         "source": [
            "Load the libraries."
         ]
      },
      {
         "cell_type": "code",
         "execution_count": null,
         "metadata": {},
         "outputs": [],
         "source": [
            "from octis.models.LDA import LDA\n",
            "from octis.dataset.dataset import Dataset\n",
            "from octis.optimization.optimizer import Optimizer\n",
            "from skopt.space.space import Real,Categorical\n",
            "from octis.evaluation_metrics.coherence_metrics import Coherence"
         ]
      },
      {
         "cell_type": "markdown",
         "metadata": {},
         "source": [
            "Choose a dataset."
         ]
      },
      {
         "cell_type": "code",
         "execution_count": null,
         "metadata": {},
         "outputs": [],
         "source": [
            "dataset = Dataset()\n",
            "dataset.load_custom_dataset_from_folder(\"/content/M10\")"
         ]
      },
      {
         "cell_type": "markdown",
         "metadata": {},
         "source": [
            "Choose a model."
         ]
      },
      {
         "cell_type": "code",
         "execution_count": null,
         "metadata": {},
         "outputs": [],
         "source": [
            "model = LDA(num_topics=25, iterations=200)"
         ]
      },
      {
         "cell_type": "markdown",
         "metadata": {},
         "source": [
            "Choose the metric function to optimize."
         ]
      },
      {
         "cell_type": "code",
         "execution_count": null,
         "metadata": {},
         "outputs": [],
         "source": [
            "metric_parameters = {\n",
            "        'texts': dataset.get_corpus(),\n",
            "        'topk': 10,\n",
            "        'measure': 'c_npmi'\n",
            "}\n",
            "npmi = Coherence(metric_parameters)"
         ]
      },
      {
         "cell_type": "markdown",
         "metadata": {},
         "source": [
            "Create the search space for optimization."
         ]
      },
      {
         "cell_type": "code",
         "execution_count": null,
         "metadata": {},
         "outputs": [],
         "source": [
            "search_space = {\n",
            "   \"alpha\": Real(low=0.001, high=5.0),\n",
            "   \"eta\": Real(low=0.001, high=5.0)\n",
            "}"
         ]
      },
      {
         "cell_type": "markdown",
         "metadata": {},
         "source": [
            "Select the path where the results (json file) will be saved."
         ]
      },
      {
         "cell_type": "code",
         "execution_count": null,
         "metadata": {},
         "outputs": [],
         "source": [
            "save_path='results/test1/'"
         ]
      },
      {
         "cell_type": "markdown",
         "metadata": {},
         "source": [
            "Select the number of iterations and model runs (for each iteration)."
         ]
      },
      {
         "cell_type": "code",
         "execution_count": null,
         "metadata": {},
         "outputs": [],
         "source": [
            "number_of_call=5\n",
            "model_runs=3"
         ]
      },
      {
         "cell_type": "markdown",
         "metadata": {},
         "source": [
            "Launch the optimization."
         ]
      },
      {
         "cell_type": "code",
         "execution_count": null,
         "metadata": {},
         "outputs": [],
         "source": [
            "optimizer=Optimizer()\n",
            "optimization_result = optimizer.optimize(model,dataset, npmi,search_space,\n",
            "                                         number_of_call=number_of_call,\n",
            "                                         model_runs=model_runs,\n",
            "                                         save_path=save_path)"
         ]
      },
      {
         "cell_type": "markdown",
         "metadata": {},
         "source": [
            "You can save the main results of the optimization in a csv file."
         ]
      },
      {
         "cell_type": "code",
         "execution_count": null,
         "metadata": {},
         "outputs": [],
         "source": [
            "optimization_result.save_to_csv(\"results.csv\")"
         ]
      }
   ],
   "metadata": {
      "kernelspec": {
         "display_name": "Python 3",
         "language": "python",
         "name": "python3"
      },
      "language_info": {
         "codemirror_mode": {
            "name": "ipython",
            "version": 3
         },
         "file_extension": ".py",
         "mimetype": "text/x-python",
         "name": "python",
         "nbconvert_exporter": "python",
         "pygments_lexer": "ipython3",
         "version": "3.7.6"
      }
   },
   "nbformat": 4,
   "nbformat_minor": 4
}